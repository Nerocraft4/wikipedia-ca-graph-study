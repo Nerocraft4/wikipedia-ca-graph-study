{
 "cells": [
  {
   "cell_type": "markdown",
   "metadata": {},
   "source": [
    "# Format to CSV"
   ]
  },
  {
   "cell_type": "code",
   "execution_count": null,
   "metadata": {},
   "outputs": [],
   "source": [
    "lines = []\n",
    "with open(file=\"cawiki-20240501-pagelinks.sql\", mode=\"r\", encoding='utf-8') as f:\n",
    "    for line in f:\n",
    "        if line[:6] == \"INSERT\":\n",
    "            for temp in line[32:-3].split(\"),(\"):\n",
    "                    lines.append(temp.split(\",\")[:5])\n",
    "lines[0]"
   ]
  },
  {
   "cell_type": "code",
   "execution_count": 3,
   "metadata": {},
   "outputs": [],
   "source": [
    "import pandas as pd"
   ]
  },
  {
   "cell_type": "code",
   "execution_count": null,
   "metadata": {},
   "outputs": [],
   "source": [
    "for i in range(6):\n",
    "    df1 = pd.DataFrame(lines[10000000*i:10000000*(i+1)]) #total 65674867\n",
    "    df1.to_csv(\"cawiki-pagelinks\"+str(i)+\".csv\", index=False, header=None)\n",
    "df1 = pd.DataFrame(lines[60000000:])\n",
    "df1.to_csv(\"cawiki-pagelinks7.csv\", index=False, header=None)"
   ]
  },
  {
   "cell_type": "markdown",
   "metadata": {},
   "source": [
    "# Recover CSVs and concat"
   ]
  },
  {
   "cell_type": "code",
   "execution_count": null,
   "metadata": {},
   "outputs": [],
   "source": [
    "import pandas as pd\n",
    "import glob\n",
    " \n",
    "# list all csv files only\n",
    "csv_files = glob.glob('*.{}'.format('csv'))\n",
    "\n",
    "import pandas as pd\n",
    " \n",
    "# df_csv_concat = pd.concat([pd.read_csv(file) for file in csv_files ], ignore_index=True)\n",
    "# df_csv_concat\n",
    "\n",
    "df1 = pd.concat([pd.read_csv(csv_files[0], header=None),pd.read_csv(csv_files[1], header=None)])\n",
    "df2 = pd.concat([pd.read_csv(csv_files[2], header=None),pd.read_csv(csv_files[3], header=None)])\n",
    "df3 = pd.concat([pd.read_csv(csv_files[4], header=None),pd.read_csv(csv_files[5], header=None),pd.read_csv(csv_files[6], header=None)])\n",
    "dfa = pd.concat([df1,df2,df3])"
   ]
  },
  {
   "cell_type": "code",
   "execution_count": null,
   "metadata": {},
   "outputs": [],
   "source": [
    "dfa = dfa[dfa[1]==0] #65M -> 60M rows\n",
    "dfa = dfa[dfa[3]==0] #60,8M -> 9,2M rows\n",
    "dfa"
   ]
  },
  {
   "cell_type": "code",
   "execution_count": null,
   "metadata": {},
   "outputs": [],
   "source": [
    "dfa.to_csv(\"cawiki-pagelinks.csv\", index=False, header=None)"
   ]
  },
  {
   "cell_type": "code",
   "execution_count": null,
   "metadata": {},
   "outputs": [],
   "source": [
    "# temp = list(df1[df1[4]==\"427395\"][0]) #tots els que apunten a !Kung_(grup_humà)\n",
    "# for item in temp:\n",
    "#     print(df1[df1[4]==item])"
   ]
  },
  {
   "cell_type": "markdown",
   "metadata": {},
   "source": [
    "## Obrint page_data (page.sql) i convertint-lo a csv"
   ]
  },
  {
   "cell_type": "code",
   "execution_count": 1,
   "metadata": {},
   "outputs": [],
   "source": [
    "lines = []\n",
    "with open(file=\"cawiki-20240501-page.sql\", mode=\"r\", encoding='utf-8') as f:\n",
    "    lines = f.readlines()\n",
    "lines = lines[50:-12]"
   ]
  },
  {
   "cell_type": "code",
   "execution_count": 4,
   "metadata": {},
   "outputs": [
    {
     "name": "stdout",
     "output_type": "stream",
     "text": [
      "1234381 rows fetched.\n"
     ]
    },
    {
     "data": {
      "text/html": [
       "<div>\n",
       "<style scoped>\n",
       "    .dataframe tbody tr th:only-of-type {\n",
       "        vertical-align: middle;\n",
       "    }\n",
       "\n",
       "    .dataframe tbody tr th {\n",
       "        vertical-align: top;\n",
       "    }\n",
       "\n",
       "    .dataframe thead th {\n",
       "        text-align: right;\n",
       "    }\n",
       "</style>\n",
       "<table border=\"1\" class=\"dataframe\">\n",
       "  <thead>\n",
       "    <tr style=\"text-align: right;\">\n",
       "      <th></th>\n",
       "      <th>id</th>\n",
       "      <th>name</th>\n",
       "    </tr>\n",
       "  </thead>\n",
       "  <tbody>\n",
       "    <tr>\n",
       "      <th>0</th>\n",
       "      <td>1</td>\n",
       "      <td>'Àbac'</td>\n",
       "    </tr>\n",
       "    <tr>\n",
       "      <th>1</th>\n",
       "      <td>2</td>\n",
       "      <td>'Abadia'</td>\n",
       "    </tr>\n",
       "    <tr>\n",
       "      <th>2</th>\n",
       "      <td>8</td>\n",
       "      <td>'Adagi'</td>\n",
       "    </tr>\n",
       "    <tr>\n",
       "      <th>3</th>\n",
       "      <td>9</td>\n",
       "      <td>'Adam'</td>\n",
       "    </tr>\n",
       "    <tr>\n",
       "      <th>4</th>\n",
       "      <td>10</td>\n",
       "      <td>'Addicció'</td>\n",
       "    </tr>\n",
       "    <tr>\n",
       "      <th>...</th>\n",
       "      <td>...</td>\n",
       "      <td>...</td>\n",
       "    </tr>\n",
       "    <tr>\n",
       "      <th>1876243</th>\n",
       "      <td>2091651</td>\n",
       "      <td>'Helena_Paleòleg_(filla_de_Demetri_II_Paleòleg)'</td>\n",
       "    </tr>\n",
       "    <tr>\n",
       "      <th>1876245</th>\n",
       "      <td>2091653</td>\n",
       "      <td>'Margarida_Paleòleg'</td>\n",
       "    </tr>\n",
       "    <tr>\n",
       "      <th>1876246</th>\n",
       "      <td>2091654</td>\n",
       "      <td>'Anna_Paleologina_Cantacuzena'</td>\n",
       "    </tr>\n",
       "    <tr>\n",
       "      <th>1876247</th>\n",
       "      <td>2091656</td>\n",
       "      <td>'Anna_Paleologina'</td>\n",
       "    </tr>\n",
       "    <tr>\n",
       "      <th>1876248</th>\n",
       "      <td>2091657</td>\n",
       "      <td>'Maria_Irene_Paleologina'</td>\n",
       "    </tr>\n",
       "  </tbody>\n",
       "</table>\n",
       "<p>1234381 rows × 2 columns</p>\n",
       "</div>"
      ],
      "text/plain": [
       "              id                                              name\n",
       "0              1                                            'Àbac'\n",
       "1              2                                          'Abadia'\n",
       "2              8                                           'Adagi'\n",
       "3              9                                            'Adam'\n",
       "4             10                                        'Addicció'\n",
       "...          ...                                               ...\n",
       "1876243  2091651  'Helena_Paleòleg_(filla_de_Demetri_II_Paleòleg)'\n",
       "1876245  2091653                              'Margarida_Paleòleg'\n",
       "1876246  2091654                    'Anna_Paleologina_Cantacuzena'\n",
       "1876247  2091656                                'Anna_Paleologina'\n",
       "1876248  2091657                         'Maria_Irene_Paleologina'\n",
       "\n",
       "[1234381 rows x 2 columns]"
      ]
     },
     "execution_count": 4,
     "metadata": {},
     "output_type": "execute_result"
    }
   ],
   "source": [
    "rows = []\n",
    "for line in lines:\n",
    "    line = line[26:]\n",
    "    values = line.split(\"),(\")\n",
    "    values[0] = values[0][1:]\n",
    "    values[-1] = values[-1][:-3]\n",
    "    for value in values:\n",
    "        rows.append(value.split(\",\")[:6])\n",
    "page_df = pd.DataFrame(rows)[[0,1,2]]\n",
    "page_df = page_df[page_df[1]==\"0\"][[0,2]] #namespace 0, drop 1\n",
    "page_df.rename({0:\"id\",2:\"name\"},axis=1,inplace=True)\n",
    "print(len(page_df),\"rows fetched.\")\n",
    "page_df"
   ]
  },
  {
   "cell_type": "code",
   "execution_count": null,
   "metadata": {},
   "outputs": [],
   "source": [
    "page_df"
   ]
  },
  {
   "cell_type": "markdown",
   "metadata": {},
   "source": [
    "# The Great Replacement (literalment)"
   ]
  },
  {
   "cell_type": "code",
   "execution_count": null,
   "metadata": {},
   "outputs": [],
   "source": [
    "repdic = page_df.set_index('id').T.to_dict('list')"
   ]
  },
  {
   "cell_type": "code",
   "execution_count": null,
   "metadata": {},
   "outputs": [],
   "source": [
    "dfa[5] = dfa[0].apply(lambda x: repdic[str(x)][0][1:-1] if str(x) in repdic.keys() else \"ERRmissing\")"
   ]
  },
  {
   "cell_type": "code",
   "execution_count": null,
   "metadata": {},
   "outputs": [],
   "source": [
    "dfa = dfa[[5,2]]\n",
    "dfa.rename({5:\"from\",2:\"to\"},axis=1,inplace=True)\n",
    "dfa[\"to\"] = dfa[\"to\"].apply(lambda x: x[1:-1])"
   ]
  },
  {
   "cell_type": "code",
   "execution_count": null,
   "metadata": {},
   "outputs": [],
   "source": [
    "dfa"
   ]
  },
  {
   "cell_type": "markdown",
   "metadata": {},
   "source": [
    "### Provant igraph"
   ]
  },
  {
   "cell_type": "code",
   "execution_count": null,
   "metadata": {},
   "outputs": [],
   "source": [
    "import igraph as ig"
   ]
  },
  {
   "cell_type": "code",
   "execution_count": null,
   "metadata": {},
   "outputs": [],
   "source": [
    "#preproc\n",
    "vertices = set(list(dfa[\"from\"]) + list(dfa[\"to\"]))\n",
    "edges = dfa.values"
   ]
  },
  {
   "cell_type": "code",
   "execution_count": null,
   "metadata": {},
   "outputs": [],
   "source": [
    "print(len(vertices),len(edges))"
   ]
  },
  {
   "cell_type": "code",
   "execution_count": null,
   "metadata": {},
   "outputs": [],
   "source": [
    "g = ig.Graph(directed=True)\n",
    "g.add_vertices(vertices)\n",
    "g.add_edges(edges)"
   ]
  },
  {
   "cell_type": "code",
   "execution_count": null,
   "metadata": {},
   "outputs": [],
   "source": [
    "layout = g.layout(\"random\")\n",
    "ig.plot(g, layout = layout)"
   ]
  },
  {
   "cell_type": "code",
   "execution_count": null,
   "metadata": {},
   "outputs": [],
   "source": []
  }
 ],
 "metadata": {
  "kernelspec": {
   "display_name": "Python 3",
   "language": "python",
   "name": "python3"
  },
  "language_info": {
   "codemirror_mode": {
    "name": "ipython",
    "version": 3
   },
   "file_extension": ".py",
   "mimetype": "text/x-python",
   "name": "python",
   "nbconvert_exporter": "python",
   "pygments_lexer": "ipython3",
   "version": "3.10.11"
  }
 },
 "nbformat": 4,
 "nbformat_minor": 2
}
